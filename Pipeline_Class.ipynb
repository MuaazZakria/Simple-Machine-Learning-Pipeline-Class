{
  "cells": [
    {
      "cell_type": "code",
      "execution_count": null,
      "id": "f7bac42c",
      "metadata": {
        "id": "f7bac42c"
      },
      "outputs": [],
      "source": [
        "import pandas as pd\n",
        "from sklearn import datasets\n",
        "from sklearn.model_selection import train_test_split\n",
        "from sklearn.linear_model import Perceptron\n",
        "from sklearn.svm import SVC\n",
        "from sklearn.neighbors import KNeighborsClassifier\n",
        "from sklearn.linear_model import LogisticRegression\n",
        "iris= datasets.load_iris()\n",
        "import seaborn as sns\n",
        "import numpy as np\n",
        "import matplotlib.pyplot as plt\n",
        "from sklearn.model_selection import StratifiedKFold\n",
        "from sklearn.model_selection import cross_val_score\n",
        "from sklearn.metrics import accuracy_score\n",
        "from sklearn.metrics import confusion_matrix\n",
        "from sklearn.metrics import classification_report"
      ]
    },
    {
      "cell_type": "code",
      "execution_count": null,
      "id": "bc54eb14",
      "metadata": {
        "id": "bc54eb14"
      },
      "outputs": [],
      "source": [
        "iris= datasets.load_iris()\n",
        "y = iris.target\n",
        "df = pd.DataFrame(data= iris.data, columns=iris.feature_names)\n",
        "print(df.isna().sum())\n",
        "\n",
        "df['sepal_area'] = df['sepal length (cm)'] * df['sepal width (cm)']\n",
        "df['petal_area'] = df['petal length (cm)'] * df['petal width (cm)']\n",
        "#print(df.describe())\n",
        "x = df[['sepal_area', 'petal_area']]\n",
        "\n",
        "xtrain, xtest, ytrain, ytest = train_test_split(x, y, test_size=0.3, random_state=1)"
      ]
    },
    {
      "cell_type": "code",
      "execution_count": null,
      "id": "23e2117e",
      "metadata": {
        "id": "23e2117e",
        "outputId": "06484826-f500-4858-fe92-077e27c93827",
        "colab": {
          "base_uri": "https://localhost:8080/"
        }
      },
      "outputs": [
        {
          "output_type": "stream",
          "name": "stdout",
          "text": [
            "KNN: 0.961818 (0.046851)\n",
            "SVM: 0.924545 (0.055603)\n"
          ]
        }
      ],
      "source": [
        "models = []\n",
        "#models.append(('LR', LogisticRegression(solver='bilinear', multi_class='ovr')))\n",
        "models.append(('KNN', KNeighborsClassifier()))\n",
        "models.append(('SVM', SVC(gamma='auto')))\n",
        "\n",
        "results = []\n",
        "names = []\n",
        "\n",
        "for name, model in models:\n",
        "    kfold = StratifiedKFold(n_splits=10, random_state=1, shuffle=True)\n",
        "    cv_results = cross_val_score(model, xtrain, ytrain, cv=kfold, scoring='accuracy')\n",
        "    results.append(cv_results)\n",
        "    names.append(name)\n",
        "    print('%s: %f (%f)' % (name, cv_results.mean(), cv_results.std()))"
      ]
    },
    {
      "cell_type": "code",
      "execution_count": null,
      "id": "8db34279",
      "metadata": {
        "id": "8db34279",
        "outputId": "d7dfb0b8-4a95-4bbb-d37b-a2a5c14c0d99",
        "colab": {
          "base_uri": "https://localhost:8080/"
        }
      },
      "outputs": [
        {
          "output_type": "stream",
          "name": "stdout",
          "text": [
            "0.9777777777777777\n",
            "[[14  0  0]\n",
            " [ 0 18  0]\n",
            " [ 0  1 12]]\n",
            "              precision    recall  f1-score   support\n",
            "\n",
            "           0       1.00      1.00      1.00        14\n",
            "           1       0.95      1.00      0.97        18\n",
            "           2       1.00      0.92      0.96        13\n",
            "\n",
            "    accuracy                           0.98        45\n",
            "   macro avg       0.98      0.97      0.98        45\n",
            "weighted avg       0.98      0.98      0.98        45\n",
            "\n"
          ]
        }
      ],
      "source": [
        "#model = SVC(gamma='auto')\n",
        "model = KNeighborsClassifier()\n",
        "model.fit(xtrain, ytrain)\n",
        "predictions = model.predict(xtest)\n",
        "\n",
        "print(accuracy_score(ytest, predictions))\n",
        "print(confusion_matrix(ytest, predictions))\n",
        "print(classification_report(ytest, predictions))"
      ]
    },
    {
      "cell_type": "code",
      "execution_count": null,
      "id": "c4f6fb71",
      "metadata": {
        "id": "c4f6fb71"
      },
      "outputs": [],
      "source": [
        "import pandas as pd\n",
        "\n",
        "class pipeline:\n",
        "  def __init__(self, iris):\n",
        "    self.iris= iris\n",
        "    y = iris.target\n",
        "    df = pd.DataFrame(data= iris.data, columns=iris.feature_names)\n",
        "    print(df.isna().sum())\n",
        "\n",
        "    df['sepal_area'] = df['sepal length (cm)'] * df['sepal width (cm)']\n",
        "    df['petal_area'] = df['petal length (cm)'] * df['petal width (cm)']\n",
        "    #print(df.describe())\n",
        "    x = df[['sepal_area', 'petal_area']]\n",
        "\n",
        "    xtrain, xtest, ytrain, ytest = train_test_split(x, y, test_size=0.3, random_state=1)\n",
        "\n",
        "    models = []\n",
        "    #models.append(('LR', LogisticRegression(solver='bilinear', multi_class='ovr')))\n",
        "    models.append(('KNN', KNeighborsClassifier()))\n",
        "    models.append(('SVM', SVC(gamma='auto')))\n",
        "\n",
        "    results = []\n",
        "    names = []\n",
        "\n",
        "    for name, model in models:\n",
        "      kfold = StratifiedKFold(n_splits=10, random_state=1, shuffle=True)\n",
        "      cv_results = cross_val_score(model, xtrain, ytrain, cv=kfold, scoring='accuracy')\n",
        "      results.append(cv_results)\n",
        "      names.append(name)\n",
        "      print('%s: %f (%f)' % (name, cv_results.mean(), cv_results.std()))\n",
        "\n",
        "    #model = SVC(gamma='auto')\n",
        "    model = KNeighborsClassifier()\n",
        "    model.fit(xtrain, ytrain)\n",
        "    predictions = model.predict(xtest)\n",
        "\n",
        "    print(accuracy_score(ytest, predictions))\n",
        "    cm = confusion_matrix(ytest, predictions)\n",
        "    sns.heatmap(cm,  cmap= 'PuBu', annot=True, fmt='g', annot_kws=    {'size':20})\n",
        "    plt.xlabel('predicted', fontsize=18)\n",
        "    plt.ylabel('actual', fontsize=18)\n",
        "    plt.title('Confusion Matrix', fontsize=18)\n",
        "    \n",
        "    plt.show()\n",
        "    #print(confusion_matrix(ytest, predictions))\n",
        "    print(classification_report(ytest, predictions))"
      ]
    },
    {
      "cell_type": "code",
      "source": [
        "iris= datasets.load_iris()\n",
        "pipeline(iris)"
      ],
      "metadata": {
        "colab": {
          "base_uri": "https://localhost:8080/",
          "height": 637
        },
        "id": "bSI1GC6jYgA0",
        "outputId": "8518fa0c-7545-462b-e625-21ec8c17a3fa"
      },
      "id": "bSI1GC6jYgA0",
      "execution_count": null,
      "outputs": [
        {
          "output_type": "stream",
          "name": "stdout",
          "text": [
            "sepal length (cm)    0\n",
            "sepal width (cm)     0\n",
            "petal length (cm)    0\n",
            "petal width (cm)     0\n",
            "dtype: int64\n",
            "KNN: 0.961818 (0.046851)\n",
            "SVM: 0.924545 (0.055603)\n",
            "0.9777777777777777\n"
          ]
        },
        {
          "output_type": "display_data",
          "data": {
            "text/plain": [
              "<Figure size 432x288 with 2 Axes>"
            ],
            "image/png": "[encoded data removed]"
          },
          "metadata": {
            "needs_background": "light"
          }
        },
        {
          "output_type": "stream",
          "name": "stdout",
          "text": [
            "              precision    recall  f1-score   support\n",
            "\n",
            "           0       1.00      1.00      1.00        14\n",
            "           1       0.95      1.00      0.97        18\n",
            "           2       1.00      0.92      0.96        13\n",
            "\n",
            "    accuracy                           0.98        45\n",
            "   macro avg       0.98      0.97      0.98        45\n",
            "weighted avg       0.98      0.98      0.98        45\n",
            "\n"
          ]
        },
        {
          "output_type": "execute_result",
          "data": {
            "text/plain": [
              "<__main__.pipeline at 0x7f5401cf2a90>"
            ]
          },
          "metadata": {},
          "execution_count": 22
        }
      ]
    }
  ],
  "metadata": {
    "kernelspec": {
      "display_name": "Python 3 (ipykernel)",
      "language": "python",
      "name": "python3"
    },
    "language_info": {
      "codemirror_mode": {
        "name": "ipython",
        "version": 3
      },
      "file_extension": ".py",
      "mimetype": "text/x-python",
      "name": "python",
      "nbconvert_exporter": "python",
      "pygments_lexer": "ipython3",
      "version": "3.9.12"
    },
    "colab": {
      "provenance": [],
      "collapsed_sections": []
    }
  },
  "nbformat": 4,
  "nbformat_minor": 5
}